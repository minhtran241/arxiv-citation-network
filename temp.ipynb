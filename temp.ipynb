{
 "cells": [
  {
   "cell_type": "code",
   "execution_count": 38,
   "metadata": {},
   "outputs": [],
   "source": [
    "import json\n",
    "import random\n",
    "import pandas as pd"
   ]
  },
  {
   "cell_type": "code",
   "execution_count": 39,
   "metadata": {},
   "outputs": [
    {
     "data": {
      "text/plain": [
       "[('alg-geom/9504005', []),\n",
       " ('alg-geom/9504017', []),\n",
       " ('alg-geom/9504008', []),\n",
       " ('alg-geom/9504006', ['alg-geom/9412003', 'alg-geom/9503003']),\n",
       " ('alg-geom/9504010', []),\n",
       " ('alg-geom/9504007', []),\n",
       " ('alg-geom/9504012', []),\n",
       " ('alg-geom/9504001', []),\n",
       " ('alg-geom/9504004', []),\n",
       " ('alg-geom/9504002', ['alg-geom/9407002'])]"
      ]
     },
     "execution_count": 39,
     "metadata": {},
     "output_type": "execute_result"
    }
   ],
   "source": [
    "# Reading the json file\n",
    "\n",
    "with open(\"data/internal-references-pdftotext.json\", \"r\") as f:\n",
    "    json_data = json.load(f)\n",
    "list(json_data.items())[50:60]"
   ]
  },
  {
   "cell_type": "code",
   "execution_count": 40,
   "metadata": {},
   "outputs": [
    {
     "name": "stdout",
     "output_type": "stream",
     "text": [
      "1354753\n"
     ]
    }
   ],
   "source": [
    "orig_len = len(json_data)\n",
    "print(orig_len)"
   ]
  },
  {
   "cell_type": "code",
   "execution_count": 41,
   "metadata": {},
   "outputs": [
    {
     "data": {
      "text/plain": [
       "10000"
      ]
     },
     "execution_count": 41,
     "metadata": {},
     "output_type": "execute_result"
    }
   ],
   "source": [
    "n_sample = 10000\n",
    "\n",
    "random.seed(42)\n",
    "sample_keys = random.sample(list(json_data.keys()), n_sample)\n",
    "\n",
    "data = {k: json_data[k] for k in sample_keys}\n",
    "\n",
    "len(data)"
   ]
  },
  {
   "cell_type": "code",
   "execution_count": 42,
   "metadata": {},
   "outputs": [
    {
     "data": {
      "text/plain": [
       "('hep-ex/0211012',\n",
       " ['hep-lat/0209122',\n",
       "  'hep-ex/0206052',\n",
       "  'hep-ex/0010054',\n",
       "  'hep-ex/0205014',\n",
       "  'hep-ex/0209070',\n",
       "  'hep-ex/9710030',\n",
       "  'hep-ph/0208188',\n",
       "  'hep-ph/0207069',\n",
       "  'hep-ex/0108034',\n",
       "  'hep-ph/0102247',\n",
       "  'hep-ph/0205069',\n",
       "  'hep-ph/0106221',\n",
       "  'hep-ex/0208037',\n",
       "  'hep-ph/0205286',\n",
       "  'hep-ex/0004021',\n",
       "  'hep-ph/0110215'])"
      ]
     },
     "execution_count": 42,
     "metadata": {},
     "output_type": "execute_result"
    }
   ],
   "source": [
    "# Only keep the keys that have a value (paper with > 0 references)\n",
    "data = {k: v for k, v in data.items() if v}\n",
    "list(data.items())[0]"
   ]
  },
  {
   "cell_type": "code",
   "execution_count": 43,
   "metadata": {},
   "outputs": [
    {
     "data": {
      "text/plain": [
       "((51620, 2),\n",
       "                top             sub\n",
       " 0  hep-lat/0209122  hep-ex/0211012\n",
       " 1   hep-ex/0206052  hep-ex/0211012\n",
       " 2   hep-ex/0010054  hep-ex/0211012\n",
       " 3   hep-ex/0205014  hep-ex/0211012\n",
       " 4   hep-ex/0209070  hep-ex/0211012)"
      ]
     },
     "execution_count": 43,
     "metadata": {},
     "output_type": "execute_result"
    }
   ],
   "source": [
    "papers_main = [key for key in data for _ in data[key]]\n",
    "papers_refs = [ref for key in data for ref in data[key]]\n",
    "\n",
    "# top -> sub (citing -> cited)\n",
    "df = pd.DataFrame({\"top\": papers_refs, \"sub\": papers_main})\n",
    "\n",
    "\n",
    "df.shape, df.head()"
   ]
  },
  {
   "cell_type": "code",
   "execution_count": 44,
   "metadata": {},
   "outputs": [
    {
     "data": {
      "text/plain": [
       "((51620, 2),\n",
       "                top             sub\n",
       " 0  hep-lat/0209122  hep-ex/0211012\n",
       " 1   hep-ex/0206052  hep-ex/0211012\n",
       " 2   hep-ex/0010054  hep-ex/0211012\n",
       " 3   hep-ex/0205014  hep-ex/0211012\n",
       " 4   hep-ex/0209070  hep-ex/0211012)"
      ]
     },
     "execution_count": 44,
     "metadata": {},
     "output_type": "execute_result"
    }
   ],
   "source": [
    "# Remove duplicates rows\n",
    "\n",
    "df = df.drop_duplicates(keep=False, inplace=False)\n",
    "\n",
    "df.shape, df.head()"
   ]
  },
  {
   "cell_type": "code",
   "execution_count": 45,
   "metadata": {},
   "outputs": [
    {
     "data": {
      "text/plain": [
       "((318, 2),\n",
       "                 top               sub\n",
       " 153  hep-ph/9806409         1211.6125\n",
       " 392  hep-ph/0312285  astro-ph/0409521\n",
       " 627  hep-ph/0301040        1710.00184\n",
       " 731  hep-th/0602021    hep-th/0605286\n",
       " 850      1704.04456        1801.09710)"
      ]
     },
     "execution_count": 45,
     "metadata": {},
     "output_type": "execute_result"
    }
   ],
   "source": [
    "# Consider only the TOP papers that cite other papers, not those that do not cite any other paper\n",
    "intersection = set(df[\"top\"]).intersection(df[\"sub\"])\n",
    "\n",
    "# Filter the DataFrame using boolean indexing\n",
    "filtered_df = df[df[\"top\"].isin(intersection)]\n",
    "\n",
    "# Update the DataFrame\n",
    "df = filtered_df\n",
    "\n",
    "# Sanity check\n",
    "df.shape, df.head()"
   ]
  },
  {
   "cell_type": "code",
   "execution_count": 46,
   "metadata": {},
   "outputs": [],
   "source": [
    "df.to_csv(\"data/citations_network.csv\", sep=\"\\t\", encoding=\"utf-8\", index=False)"
   ]
  },
  {
   "cell_type": "code",
   "execution_count": 47,
   "metadata": {},
   "outputs": [],
   "source": [
    "# Read the ids and titles from \"data/oai-arxiv-metadata-hash-abstracts-2019-03-01.json\"\n",
    "\n",
    "filename = \"data/oai-arxiv-metadata-hash-abstracts-2019-03-01.json\"\n",
    "with open(filename, \"r\") as f:\n",
    "    info_ = [json.loads(line) for line in f]\n",
    "info_aXv = pd.DataFrame.from_dict(info_)\n",
    "info_aXv = pd.DataFrame({\"idAxv\": info_aXv[\"id\"], \"title\": info_aXv[\"title\"]})\n",
    "info_aXv[\"idAxv\"] = info_aXv[\"idAxv\"].apply(lambda x: \"x\" + str(x))\n",
    "info_aXv[\"title\"] = info_aXv[\"title\"].apply(lambda x: x.translate({ord(\"\\n\"): None}))\n",
    "info_aXv.to_csv(\n",
    "    \"data/infos_idd_names.csv\", sep=\"\\t\", encoding=\"utf-8\", index=False\n",
    ")  # save for future use"
   ]
  },
  {
   "cell_type": "code",
   "execution_count": 48,
   "metadata": {},
   "outputs": [],
   "source": [
    "filename = \"data/infos_idd_names.csv\"\n",
    "info_aXv = pd.read_csv(filename, sep=\"\\t\", index_col=0)\n",
    "info_aXv.reset_index(inplace=True)\n",
    "info_aXv[\"idAxv\"] = info_aXv[\"idAxv\"].apply(lambda x: x[1:])"
   ]
  },
  {
   "cell_type": "code",
   "execution_count": 49,
   "metadata": {},
   "outputs": [
    {
     "data": {
      "text/html": [
       "<div>\n",
       "<style scoped>\n",
       "    .dataframe tbody tr th:only-of-type {\n",
       "        vertical-align: middle;\n",
       "    }\n",
       "\n",
       "    .dataframe tbody tr th {\n",
       "        vertical-align: top;\n",
       "    }\n",
       "\n",
       "    .dataframe thead th {\n",
       "        text-align: right;\n",
       "    }\n",
       "</style>\n",
       "<table border=\"1\" class=\"dataframe\">\n",
       "  <thead>\n",
       "    <tr style=\"text-align: right;\">\n",
       "      <th></th>\n",
       "      <th>idAxv</th>\n",
       "      <th>title</th>\n",
       "    </tr>\n",
       "  </thead>\n",
       "  <tbody>\n",
       "    <tr>\n",
       "      <th>0</th>\n",
       "      <td>0704.0001</td>\n",
       "      <td>Calculation of prompt diphoton production cros...</td>\n",
       "    </tr>\n",
       "    <tr>\n",
       "      <th>1</th>\n",
       "      <td>0704.0002</td>\n",
       "      <td>Sparsity-certifying Graph Decompositions</td>\n",
       "    </tr>\n",
       "    <tr>\n",
       "      <th>2</th>\n",
       "      <td>0704.0003</td>\n",
       "      <td>The evolution of the Earth-Moon system based o...</td>\n",
       "    </tr>\n",
       "    <tr>\n",
       "      <th>3</th>\n",
       "      <td>0704.0004</td>\n",
       "      <td>A determinant of Stirling cycle numbers counts...</td>\n",
       "    </tr>\n",
       "    <tr>\n",
       "      <th>4</th>\n",
       "      <td>0704.0005</td>\n",
       "      <td>From dyadic $\\Lambda_{\\alpha}$ to $\\Lambda_{\\a...</td>\n",
       "    </tr>\n",
       "  </tbody>\n",
       "</table>\n",
       "</div>"
      ],
      "text/plain": [
       "       idAxv                                              title\n",
       "0  0704.0001  Calculation of prompt diphoton production cros...\n",
       "1  0704.0002           Sparsity-certifying Graph Decompositions\n",
       "2  0704.0003  The evolution of the Earth-Moon system based o...\n",
       "3  0704.0004  A determinant of Stirling cycle numbers counts...\n",
       "4  0704.0005  From dyadic $\\Lambda_{\\alpha}$ to $\\Lambda_{\\a..."
      ]
     },
     "execution_count": 49,
     "metadata": {},
     "output_type": "execute_result"
    }
   ],
   "source": [
    "info_aXv.head()"
   ]
  },
  {
   "cell_type": "code",
   "execution_count": null,
   "metadata": {},
   "outputs": [],
   "source": []
  }
 ],
 "metadata": {
  "kernelspec": {
   "display_name": "Python 3",
   "language": "python",
   "name": "python3"
  },
  "language_info": {
   "codemirror_mode": {
    "name": "ipython",
    "version": 3
   },
   "file_extension": ".py",
   "mimetype": "text/x-python",
   "name": "python",
   "nbconvert_exporter": "python",
   "pygments_lexer": "ipython3",
   "version": "3.11.0"
  }
 },
 "nbformat": 4,
 "nbformat_minor": 2
}
